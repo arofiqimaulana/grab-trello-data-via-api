{
 "cells": [
  {
   "cell_type": "code",
   "execution_count": 2,
   "metadata": {},
   "outputs": [],
   "source": [
    "import pandas as pd\n",
    "import requests\n",
    "import json\n",
    "from trello import TrelloClient"
   ]
  },
  {
   "cell_type": "markdown",
   "metadata": {},
   "source": [
    "# 1. Authentikasi\n",
    "Kita membutuhkan api key dan token yang bisa didapatkan dari https://trello.com/app-key."
   ]
  },
  {
   "cell_type": "code",
   "execution_count": 4,
   "metadata": {},
   "outputs": [],
   "source": [
    "credentials = pd.read_json('auth.json',typ='series')\n",
    "\n",
    "api_key = credentials['api_key']\n",
    "api_token = credentials['token']"
   ]
  },
  {
   "cell_type": "markdown",
   "metadata": {},
   "source": [
    "# Get Data"
   ]
  },
  {
   "cell_type": "code",
   "execution_count": 5,
   "metadata": {},
   "outputs": [],
   "source": [
    "from trello import TrelloClient\n",
    "\n",
    "client = TrelloClient(\n",
    "    api_key=api_key,\n",
    "    token=api_token\n",
    ")"
   ]
  },
  {
   "cell_type": "code",
   "execution_count": 6,
   "metadata": {},
   "outputs": [],
   "source": [
    "def list_all_boards(client):\n",
    "    \"\"\"\n",
    "        get list of all boards to determine the ID\n",
    "        for further functions\n",
    "    \"\"\"\n",
    "    all_boards = client.list_boards()\n",
    "    for counter, board in enumerate(all_boards):\n",
    "        print(counter, board.name)"
   ]
  },
  {
   "cell_type": "code",
   "execution_count": 7,
   "metadata": {},
   "outputs": [
    {
     "name": "stdout",
     "output_type": "stream",
     "text": [
      "0 Agile Sprint Board\n",
      "1 Project Management\n"
     ]
    }
   ],
   "source": [
    "\"\"\"\n",
    "Mendapatkan semua board yang kita miliki\n",
    "\"\"\"\n",
    "list_all_boards(client)"
   ]
  },
  {
   "cell_type": "code",
   "execution_count": 8,
   "metadata": {},
   "outputs": [],
   "source": [
    "def print_cards_from_board(board_id, client):\n",
    "    \"\"\"\n",
    "        Access board with ID board_id in the client instance\n",
    "        and print all non-archived lists with their non-archived  \n",
    "        cards \n",
    "    \"\"\"\n",
    "    all_boards = client.list_boards()\n",
    "    my_board = all_boards[board_id] \n",
    "    all_lists_on_board = my_board.list_lists()\n",
    "\n",
    "    for list in all_lists_on_board:\n",
    "        if not list.closed:\n",
    "            for card in list.list_cards():\n",
    "                if not card.closed:\n",
    "                    print(list.name, ':' , card.name)"
   ]
  },
  {
   "cell_type": "code",
   "execution_count": 10,
   "metadata": {},
   "outputs": [
    {
     "name": "stdout",
     "output_type": "stream",
     "text": [
      "Backlog : Product Owner: Brian\n",
      "Backlog : (3) Pre-load card attachments\n",
      "Backlog : (5) renderable action\n",
      "Backlog : (1) J/K Keyboard Shortcuts Disabled\n",
      "Backlog : (3) fix /org/:id route\n",
      "Sprint Backlog : (8) Clicking the collection beneath a board should filter by collection, not open collections pop-over\n",
      "Sprint Backlog : (2) BC3 team boards page: Show Other Private Boards\n",
      "Sprint Backlog : (1) Add post-message-io\n",
      "In Progress : (5) EditableFieldView\n",
      "In Progress : (21) Update CSS\n",
      "In Progress : (1) Show collection helper text in collections menu\n",
      "8.9.17 Sprint - Complete : (8) Let the server choose the default name when creating a card from a URL\n",
      "8.9.17 Sprint - Complete : (3) plugins: attachment preview icon\n",
      "8.9.17 Sprint - Complete : (1) Decouple board page list CSS\n",
      "8.2.17 Sprint - Complete : 👍 Sprint Review 👎\n",
      "8.2.17 Sprint - Complete : (3) Restore hidden short ids (or don't, up to you)\n",
      "8.2.17 Sprint - Complete : (1) Button color clean up\n",
      "8.2.17 Sprint - Complete : (3) plugins(beta) icons and colors fixes\n"
     ]
    }
   ],
   "source": [
    "\"\"\"\n",
    "Mendapatkan semua list dan card yang kita miliki\n",
    "\"\"\"\n",
    "print_cards_from_board(0,client)"
   ]
  },
  {
   "cell_type": "markdown",
   "metadata": {},
   "source": [
    "# Refference\n",
    "1. https://pypi.org/project/py-trello/\n",
    "2. https://ziegenhagen.medium.com/exporting-your-trello-boards-with-python-e3eae2dc77ea\n",
    "3. https://py-trello-dev.readthedocs.io/en/latest/_modules/trello/trelloclient.html"
   ]
  },
  {
   "cell_type": "code",
   "execution_count": null,
   "metadata": {},
   "outputs": [],
   "source": []
  },
  {
   "cell_type": "code",
   "execution_count": null,
   "metadata": {},
   "outputs": [],
   "source": []
  }
 ],
 "metadata": {
  "kernelspec": {
   "display_name": "Python 3",
   "language": "python",
   "name": "python3"
  },
  "language_info": {
   "codemirror_mode": {
    "name": "ipython",
    "version": 3
   },
   "file_extension": ".py",
   "mimetype": "text/x-python",
   "name": "python",
   "nbconvert_exporter": "python",
   "pygments_lexer": "ipython3",
   "version": "3.8.5"
  }
 },
 "nbformat": 4,
 "nbformat_minor": 4
}
