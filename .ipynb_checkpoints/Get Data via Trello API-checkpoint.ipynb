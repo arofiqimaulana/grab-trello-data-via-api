{
 "cells": [
  {
   "cell_type": "code",
   "execution_count": 1,
   "metadata": {},
   "outputs": [],
   "source": [
    "import pandas as pd\n",
    "import requests\n",
    "import json\n",
    "import requests"
   ]
  },
  {
   "cell_type": "markdown",
   "metadata": {},
   "source": [
    "# 1. Authentikasi\n",
    "Kita membutuhkan api key dan token yang bisa didapatkan dari https://trello.com/app-key."
   ]
  },
  {
   "cell_type": "code",
   "execution_count": 125,
   "metadata": {},
   "outputs": [],
   "source": [
    "credentials = pd.read_json('auth.json',typ='series')"
   ]
  },
  {
   "cell_type": "code",
   "execution_count": 126,
   "metadata": {},
   "outputs": [],
   "source": [
    "api_key = credentials['api_key']\n",
    "api_token = credentials['token']"
   ]
  },
  {
   "cell_type": "markdown",
   "metadata": {},
   "source": [
    "# 2. Get data via API\n",
    "Setelah kita mendapatkan authentikasi api tersebut, barulah kita bisa melakukan grab data"
   ]
  },
  {
   "cell_type": "markdown",
   "metadata": {},
   "source": [
    "## 2.1 Mendapatkan deskripsi suatu board\n",
    "Kita bisa mendapatkan deskripsi dari suatu board"
   ]
  },
  {
   "cell_type": "code",
   "execution_count": 4,
   "metadata": {},
   "outputs": [],
   "source": [
    "def getABoard(key,token,board_id):\n",
    "    import requests\n",
    "    import json\n",
    "    \n",
    "    url = \"https://api.trello.com/1/boards/\"+str(board_id)\n",
    "    \n",
    "    headers = {\"Accept\": \"application/json\"}\n",
    "\n",
    "    query = {\n",
    "       'key': key,\n",
    "       'token': token\n",
    "    }\n",
    "\n",
    "    response = requests.request(\n",
    "       \"GET\",\n",
    "       url,\n",
    "       headers=headers,\n",
    "       params=query\n",
    "    )\n",
    "    \n",
    "    res = json.loads(response.text)\n",
    "    \n",
    "    return res"
   ]
  },
  {
   "cell_type": "code",
   "execution_count": 105,
   "metadata": {},
   "outputs": [],
   "source": [
    "# id dari suatu board bisa diketahui dari url board tersebut\n",
    "# misal https://trello.com/b/xbbSYDmL/agile-sprint-board, maka board_id = 'xbbSYDmL'\n",
    "board_id = 'xbbSYDmL'"
   ]
  },
  {
   "cell_type": "code",
   "execution_count": 6,
   "metadata": {},
   "outputs": [],
   "source": [
    "boards_info = getABoard(api_key,api_token,board_id)"
   ]
  },
  {
   "cell_type": "code",
   "execution_count": 103,
   "metadata": {},
   "outputs": [
    {
     "data": {
      "text/plain": [
       "{'id': '60d3c53dcf4d0b5891f5feae',\n",
       " 'name': 'Agile Sprint Board',\n",
       " 'desc': 'Move fast without losing sight by adopting an agile workflow that gives your team perspective during any project management situation.\\n\\n- Keep all code, specs, and plans easily accessible in one location for more organized product development.\\n- Collaborate seamlessly with engineers, product and scrum masters.\\n- Manage and prioritize the product backlog with stakeholders and product managers.\\n- Easily share what’s shipped and what’s up next with stakeholders.\\n\\nCheck out our full Trello Engineering playbook [here](https://trello.com/teams/engineering).',\n",
       " 'descData': None,\n",
       " 'closed': False,\n",
       " 'idOrganization': '60d3c1d41393d025aeeb0e9d',\n",
       " 'idEnterprise': None,\n",
       " 'pinned': False,\n",
       " 'url': 'https://trello.com/b/xbbSYDmL/agile-sprint-board',\n",
       " 'shortUrl': 'https://trello.com/b/xbbSYDmL',\n",
       " 'labelNames': {'green': 'Meta',\n",
       "  'yellow': 'Verified on branch',\n",
       "  'orange': 'Bugs',\n",
       "  'red': 'Blocked',\n",
       "  'purple': 'Regression',\n",
       "  'blue': 'Verified on staging',\n",
       "  'sky': 'New Team / boards tab',\n",
       "  'lime': '',\n",
       "  'pink': '',\n",
       "  'black': 'Security Issue'},\n",
       " 'prefs': {'permissionLevel': 'org',\n",
       "  'hideVotes': False,\n",
       "  'voting': 'disabled',\n",
       "  'comments': 'members',\n",
       "  'invitations': 'members',\n",
       "  'selfJoin': True,\n",
       "  'cardCovers': True,\n",
       "  'isTemplate': False,\n",
       "  'cardAging': 'regular',\n",
       "  'calendarFeedEnabled': False,\n",
       "  'background': '5a8486f9e66d693e925535ba',\n",
       "  'backgroundImage': 'https://trello-backgrounds.s3.amazonaws.com/SharedBackground/2560x1696/8d7bfae3eba22530e020656d46a4eb49/photo-1515079424831-8fce6574676d',\n",
       "  'backgroundImageScaled': [{'width': 140,\n",
       "    'height': 100,\n",
       "    'url': 'https://trello-backgrounds.s3.amazonaws.com/SharedBackground/140x100/beb4b7c9e791a582289e60b36c681ba6/photo-1515079424831-8fce6574676d.jpg'},\n",
       "   {'width': 256,\n",
       "    'height': 192,\n",
       "    'url': 'https://trello-backgrounds.s3.amazonaws.com/SharedBackground/256x192/04e1511fcf377846fe5e07f0e81832e7/photo-1515079424831-8fce6574676d.jpg'},\n",
       "   {'width': 480,\n",
       "    'height': 480,\n",
       "    'url': 'https://trello-backgrounds.s3.amazonaws.com/SharedBackground/480x480/e8a76cd7622d8889d42c2977427bb584/photo-1515079424831-8fce6574676d.jpg'},\n",
       "   {'width': 960,\n",
       "    'height': 960,\n",
       "    'url': 'https://trello-backgrounds.s3.amazonaws.com/SharedBackground/960x960/0a354a79bc21a1f831d079481f954b69/photo-1515079424831-8fce6574676d.jpg'},\n",
       "   {'width': 1024,\n",
       "    'height': 1024,\n",
       "    'url': 'https://trello-backgrounds.s3.amazonaws.com/SharedBackground/1024x1024/a1ae987bb0cab9920e4ea381f7f4d304/photo-1515079424831-8fce6574676d.jpg'},\n",
       "   {'width': 2048,\n",
       "    'height': 2048,\n",
       "    'url': 'https://trello-backgrounds.s3.amazonaws.com/SharedBackground/2048x2048/e1ccb6f993e8f857437e7442bb000639/photo-1515079424831-8fce6574676d.jpg'},\n",
       "   {'width': 1280,\n",
       "    'height': 1280,\n",
       "    'url': 'https://trello-backgrounds.s3.amazonaws.com/SharedBackground/1280x1280/b37fa53943a2024f546e542a3ecc6fd9/photo-1515079424831-8fce6574676d.jpg'},\n",
       "   {'width': 1920,\n",
       "    'height': 1920,\n",
       "    'url': 'https://trello-backgrounds.s3.amazonaws.com/SharedBackground/1920x1920/5652981e9a0a85d01ce679c466af765d/photo-1515079424831-8fce6574676d.jpg'},\n",
       "   {'width': 2560,\n",
       "    'height': 1600,\n",
       "    'url': 'https://trello-backgrounds.s3.amazonaws.com/SharedBackground/2560x1600/b3cdf3bf1d56b49dc26fb7d3e6753bca/photo-1515079424831-8fce6574676d.jpg'},\n",
       "   {'width': 2560,\n",
       "    'height': 1696,\n",
       "    'url': 'https://trello-backgrounds.s3.amazonaws.com/SharedBackground/2560x1696/8d7bfae3eba22530e020656d46a4eb49/photo-1515079424831-8fce6574676d'}],\n",
       "  'backgroundTile': False,\n",
       "  'backgroundBrightness': 'dark',\n",
       "  'backgroundBottomColor': '#102c45',\n",
       "  'backgroundTopColor': '#096c98',\n",
       "  'canBePublic': True,\n",
       "  'canBeEnterprise': True,\n",
       "  'canBeOrg': True,\n",
       "  'canBePrivate': True,\n",
       "  'canInvite': True}}"
      ]
     },
     "execution_count": 103,
     "metadata": {},
     "output_type": "execute_result"
    }
   ],
   "source": [
    "boards_info"
   ]
  },
  {
   "cell_type": "code",
   "execution_count": 98,
   "metadata": {},
   "outputs": [
    {
     "data": {
      "text/html": [
       "<div>\n",
       "<style scoped>\n",
       "    .dataframe tbody tr th:only-of-type {\n",
       "        vertical-align: middle;\n",
       "    }\n",
       "\n",
       "    .dataframe tbody tr th {\n",
       "        vertical-align: top;\n",
       "    }\n",
       "\n",
       "    .dataframe thead th {\n",
       "        text-align: right;\n",
       "    }\n",
       "</style>\n",
       "<table border=\"1\" class=\"dataframe\">\n",
       "  <thead>\n",
       "    <tr style=\"text-align: right;\">\n",
       "      <th></th>\n",
       "      <th>board_id</th>\n",
       "      <th>name</th>\n",
       "      <th>desc</th>\n",
       "      <th>url</th>\n",
       "    </tr>\n",
       "  </thead>\n",
       "  <tbody>\n",
       "    <tr>\n",
       "      <th>0</th>\n",
       "      <td>60d3c53dcf4d0b5891f5feae</td>\n",
       "      <td>Agile Sprint Board</td>\n",
       "      <td>Move fast without losing sight by adopting an ...</td>\n",
       "      <td>https://trello.com/b/xbbSYDmL/agile-sprint-board</td>\n",
       "    </tr>\n",
       "  </tbody>\n",
       "</table>\n",
       "</div>"
      ],
      "text/plain": [
       "                   board_id                name  \\\n",
       "0  60d3c53dcf4d0b5891f5feae  Agile Sprint Board   \n",
       "\n",
       "                                                desc  \\\n",
       "0  Move fast without losing sight by adopting an ...   \n",
       "\n",
       "                                                url  \n",
       "0  https://trello.com/b/xbbSYDmL/agile-sprint-board  "
      ]
     },
     "execution_count": 98,
     "metadata": {},
     "output_type": "execute_result"
    }
   ],
   "source": [
    "df_board_info = pd.DataFrame([boards_info['id'],boards_info['name'],boards_info['desc'],boards_info['url']]).T\n",
    "df_board_info.columns = ['board_id','name','desc','url']\n",
    "df_board_info"
   ]
  },
  {
   "cell_type": "markdown",
   "metadata": {},
   "source": [
    "## 2.2 Mendapatkan semua list yang ada di suatu board\n",
    "Kita bisa mendapatkan list apa saja yang ada di suatu board."
   ]
  },
  {
   "cell_type": "code",
   "execution_count": 108,
   "metadata": {},
   "outputs": [],
   "source": [
    "def getAllListOnABoard(key,token,board_id):\n",
    "    import requests\n",
    "    import json\n",
    "    \n",
    "    url = \"https://api.trello.com/1/boards/\"+str(board_id)+\"/lists\"\n",
    "    headers = {\"Accept\": \"application/json\"}\n",
    "\n",
    "    query = {\n",
    "       'key': key,\n",
    "       'token': token\n",
    "    }\n",
    "\n",
    "    response = requests.request(\n",
    "       \"GET\",\n",
    "       url,\n",
    "       headers=headers,\n",
    "       params=query\n",
    "    )\n",
    "    \n",
    "    res = json.loads(response.text)\n",
    "    \n",
    "    return res"
   ]
  },
  {
   "cell_type": "code",
   "execution_count": 109,
   "metadata": {},
   "outputs": [],
   "source": [
    "# id dari suatu board bisa diketahui dari url board tersebut\n",
    "# misal https://trello.com/b/xbbSYDmL/agile-sprint-board, maka board_id = 'xbbSYDmL'\n",
    "board_id = 'xbbSYDmL'"
   ]
  },
  {
   "cell_type": "code",
   "execution_count": 110,
   "metadata": {},
   "outputs": [],
   "source": [
    "Lists= getAllListOnABoard(api_key,api_token,board_id)"
   ]
  },
  {
   "cell_type": "code",
   "execution_count": 111,
   "metadata": {},
   "outputs": [
    {
     "data": {
      "text/plain": [
       "[{'id': '60d3c53dcf4d0b5891f5feaf',\n",
       "  'name': 'Backlog',\n",
       "  'closed': False,\n",
       "  'pos': 225672,\n",
       "  'softLimit': None,\n",
       "  'idBoard': '60d3c53dcf4d0b5891f5feae',\n",
       "  'subscribed': False},\n",
       " {'id': '60d3c53dcf4d0b5891f5feb0',\n",
       "  'name': 'Sprint Backlog',\n",
       "  'closed': False,\n",
       "  'pos': 227652.75805664062,\n",
       "  'softLimit': None,\n",
       "  'idBoard': '60d3c53dcf4d0b5891f5feae',\n",
       "  'subscribed': False},\n",
       " {'id': '60d3c53dcf4d0b5891f5feb1',\n",
       "  'name': 'In Progress',\n",
       "  'closed': False,\n",
       "  'pos': 229633.51611328125,\n",
       "  'softLimit': None,\n",
       "  'idBoard': '60d3c53dcf4d0b5891f5feae',\n",
       "  'subscribed': False},\n",
       " {'id': '60d3c53dcf4d0b5891f5feb2',\n",
       "  'name': '8.9.17 Sprint - Complete',\n",
       "  'closed': False,\n",
       "  'pos': 237827.0322265625,\n",
       "  'softLimit': None,\n",
       "  'idBoard': '60d3c53dcf4d0b5891f5feae',\n",
       "  'subscribed': False},\n",
       " {'id': '60d3c53dcf4d0b5891f5feb3',\n",
       "  'name': '8.2.17 Sprint - Complete',\n",
       "  'closed': False,\n",
       "  'pos': 237859.0322265625,\n",
       "  'softLimit': None,\n",
       "  'idBoard': '60d3c53dcf4d0b5891f5feae',\n",
       "  'subscribed': False}]"
      ]
     },
     "execution_count": 111,
     "metadata": {},
     "output_type": "execute_result"
    }
   ],
   "source": [
    "Lists"
   ]
  },
  {
   "cell_type": "code",
   "execution_count": 112,
   "metadata": {},
   "outputs": [],
   "source": [
    "AllLists = []\n",
    "for k in range(len(Lists)):\n",
    "    res = [Lists[0]['idBoard'],Lists[k]['id'],Lists[k]['name']]\n",
    "    df_res = pd.DataFrame(res).T\n",
    "    AllLists.append(df_res)"
   ]
  },
  {
   "cell_type": "code",
   "execution_count": 113,
   "metadata": {},
   "outputs": [
    {
     "data": {
      "text/html": [
       "<div>\n",
       "<style scoped>\n",
       "    .dataframe tbody tr th:only-of-type {\n",
       "        vertical-align: middle;\n",
       "    }\n",
       "\n",
       "    .dataframe tbody tr th {\n",
       "        vertical-align: top;\n",
       "    }\n",
       "\n",
       "    .dataframe thead th {\n",
       "        text-align: right;\n",
       "    }\n",
       "</style>\n",
       "<table border=\"1\" class=\"dataframe\">\n",
       "  <thead>\n",
       "    <tr style=\"text-align: right;\">\n",
       "      <th></th>\n",
       "      <th>Board_id</th>\n",
       "      <th>List_id</th>\n",
       "      <th>List_Name</th>\n",
       "    </tr>\n",
       "  </thead>\n",
       "  <tbody>\n",
       "    <tr>\n",
       "      <th>0</th>\n",
       "      <td>60d3c53dcf4d0b5891f5feae</td>\n",
       "      <td>60d3c53dcf4d0b5891f5feaf</td>\n",
       "      <td>Backlog</td>\n",
       "    </tr>\n",
       "    <tr>\n",
       "      <th>0</th>\n",
       "      <td>60d3c53dcf4d0b5891f5feae</td>\n",
       "      <td>60d3c53dcf4d0b5891f5feb0</td>\n",
       "      <td>Sprint Backlog</td>\n",
       "    </tr>\n",
       "    <tr>\n",
       "      <th>0</th>\n",
       "      <td>60d3c53dcf4d0b5891f5feae</td>\n",
       "      <td>60d3c53dcf4d0b5891f5feb1</td>\n",
       "      <td>In Progress</td>\n",
       "    </tr>\n",
       "    <tr>\n",
       "      <th>0</th>\n",
       "      <td>60d3c53dcf4d0b5891f5feae</td>\n",
       "      <td>60d3c53dcf4d0b5891f5feb2</td>\n",
       "      <td>8.9.17 Sprint - Complete</td>\n",
       "    </tr>\n",
       "    <tr>\n",
       "      <th>0</th>\n",
       "      <td>60d3c53dcf4d0b5891f5feae</td>\n",
       "      <td>60d3c53dcf4d0b5891f5feb3</td>\n",
       "      <td>8.2.17 Sprint - Complete</td>\n",
       "    </tr>\n",
       "  </tbody>\n",
       "</table>\n",
       "</div>"
      ],
      "text/plain": [
       "                   Board_id                   List_id  \\\n",
       "0  60d3c53dcf4d0b5891f5feae  60d3c53dcf4d0b5891f5feaf   \n",
       "0  60d3c53dcf4d0b5891f5feae  60d3c53dcf4d0b5891f5feb0   \n",
       "0  60d3c53dcf4d0b5891f5feae  60d3c53dcf4d0b5891f5feb1   \n",
       "0  60d3c53dcf4d0b5891f5feae  60d3c53dcf4d0b5891f5feb2   \n",
       "0  60d3c53dcf4d0b5891f5feae  60d3c53dcf4d0b5891f5feb3   \n",
       "\n",
       "                  List_Name  \n",
       "0                   Backlog  \n",
       "0            Sprint Backlog  \n",
       "0               In Progress  \n",
       "0  8.9.17 Sprint - Complete  \n",
       "0  8.2.17 Sprint - Complete  "
      ]
     },
     "execution_count": 113,
     "metadata": {},
     "output_type": "execute_result"
    }
   ],
   "source": [
    "df_AllLists = pd.concat(AllLists)\n",
    "df_AllLists.columns = ['Board_id','List_id','List_Name']\n",
    "df_AllLists"
   ]
  },
  {
   "cell_type": "markdown",
   "metadata": {},
   "source": [
    "## 2.3 Mendapatkan semua card yang ada di suatu list\n",
    "Kita bisa mendapatkan semua card yang ada di dalam suatu list."
   ]
  },
  {
   "cell_type": "code",
   "execution_count": 43,
   "metadata": {},
   "outputs": [],
   "source": [
    "def getAllCardsOnAList(key,token,list_id):\n",
    "    import requestshttp://localhost:8888/notebooks/Documents/github/Grab%20Trello%20Data/Get%20Data%20via%20Trello%20API.ipynb#2.3-Mendapatkan-semua-card-yang-ada-di-suatu-list\n",
    "    import json\n",
    "    \n",
    "    url = \"https://api.trello.com/1/lists/\"+str(list_id)+\"/cards\"\n",
    "    \n",
    "    headers = {\"Accept\": \"application/json\"}\n",
    "\n",
    "    query = {\n",
    "       'key': key,\n",
    "       'token': token\n",
    "    }\n",
    "\n",
    "    response = requests.request(\n",
    "       \"GET\",\n",
    "       url,\n",
    "       headers=headers,\n",
    "       params=query\n",
    "    )\n",
    "    \n",
    "    res = json.loads(response.text)\n",
    "    \n",
    "    return res"
   ]
  },
  {
   "cell_type": "code",
   "execution_count": 44,
   "metadata": {},
   "outputs": [],
   "source": [
    "# list_id ini bisa didapatkan dari hasil output sebelumnya\n",
    "list_id = '60d3c53dcf4d0b5891f5feaf'"
   ]
  },
  {
   "cell_type": "code",
   "execution_count": 45,
   "metadata": {},
   "outputs": [],
   "source": [
    "Cards = getAllCardsOnAList(api_key,api_token,list_id)"
   ]
  },
  {
   "cell_type": "code",
   "execution_count": 60,
   "metadata": {},
   "outputs": [],
   "source": [
    "AllCards = []\n",
    "for k in range(len(Cards)):\n",
    "    res = [Cards[k]['id'],Cards[k]['desc'],Cards[k]['name'],Cards[k]['url']]\n",
    "    df_res = pd.DataFrame(res).T\n",
    "    AllCards.append(df_res)"
   ]
  },
  {
   "cell_type": "code",
   "execution_count": 64,
   "metadata": {},
   "outputs": [
    {
     "data": {
      "text/html": [
       "<div>\n",
       "<style scoped>\n",
       "    .dataframe tbody tr th:only-of-type {\n",
       "        vertical-align: middle;\n",
       "    }\n",
       "\n",
       "    .dataframe tbody tr th {\n",
       "        vertical-align: top;\n",
       "    }\n",
       "\n",
       "    .dataframe thead th {\n",
       "        text-align: right;\n",
       "    }\n",
       "</style>\n",
       "<table border=\"1\" class=\"dataframe\">\n",
       "  <thead>\n",
       "    <tr style=\"text-align: right;\">\n",
       "      <th></th>\n",
       "      <th>Card_id</th>\n",
       "      <th>Desc</th>\n",
       "      <th>Name</th>\n",
       "      <th>URL</th>\n",
       "    </tr>\n",
       "  </thead>\n",
       "  <tbody>\n",
       "    <tr>\n",
       "      <th>0</th>\n",
       "      <td>60d3c53dcf4d0b5891f5feea</td>\n",
       "      <td></td>\n",
       "      <td>Product Owner: Brian</td>\n",
       "      <td>https://trello.com/c/IljislYX/18-product-owner...</td>\n",
       "    </tr>\n",
       "    <tr>\n",
       "      <th>0</th>\n",
       "      <td>60d3c53dcf4d0b5891f5fed6</td>\n",
       "      <td></td>\n",
       "      <td>(3) Pre-load card attachments</td>\n",
       "      <td>https://trello.com/c/7QUTJ5wa/8-3-pre-load-car...</td>\n",
       "    </tr>\n",
       "    <tr>\n",
       "      <th>0</th>\n",
       "      <td>60d3c53dcf4d0b5891f5fecf</td>\n",
       "      <td></td>\n",
       "      <td>(5) renderable action</td>\n",
       "      <td>https://trello.com/c/6fcJHuD9/4-5-renderable-a...</td>\n",
       "    </tr>\n",
       "    <tr>\n",
       "      <th>0</th>\n",
       "      <td>60d3c53dcf4d0b5891f5fee6</td>\n",
       "      <td></td>\n",
       "      <td>(1) J/K Keyboard Shortcuts Disabled</td>\n",
       "      <td>https://trello.com/c/8XWbl7GB/16-1-j-k-keyboar...</td>\n",
       "    </tr>\n",
       "    <tr>\n",
       "      <th>0</th>\n",
       "      <td>60d3c53dcf4d0b5891f5fed8</td>\n",
       "      <td>The /org/:id url doesn't currently work, you g...</td>\n",
       "      <td>(3) fix /org/:id route</td>\n",
       "      <td>https://trello.com/c/TZbICnYd/9-3-fix-org-id-r...</td>\n",
       "    </tr>\n",
       "  </tbody>\n",
       "</table>\n",
       "</div>"
      ],
      "text/plain": [
       "                    Card_id  \\\n",
       "0  60d3c53dcf4d0b5891f5feea   \n",
       "0  60d3c53dcf4d0b5891f5fed6   \n",
       "0  60d3c53dcf4d0b5891f5fecf   \n",
       "0  60d3c53dcf4d0b5891f5fee6   \n",
       "0  60d3c53dcf4d0b5891f5fed8   \n",
       "\n",
       "                                                Desc  \\\n",
       "0                                                      \n",
       "0                                                      \n",
       "0                                                      \n",
       "0                                                      \n",
       "0  The /org/:id url doesn't currently work, you g...   \n",
       "\n",
       "                                  Name  \\\n",
       "0                 Product Owner: Brian   \n",
       "0        (3) Pre-load card attachments   \n",
       "0                (5) renderable action   \n",
       "0  (1) J/K Keyboard Shortcuts Disabled   \n",
       "0               (3) fix /org/:id route   \n",
       "\n",
       "                                                 URL  \n",
       "0  https://trello.com/c/IljislYX/18-product-owner...  \n",
       "0  https://trello.com/c/7QUTJ5wa/8-3-pre-load-car...  \n",
       "0  https://trello.com/c/6fcJHuD9/4-5-renderable-a...  \n",
       "0  https://trello.com/c/8XWbl7GB/16-1-j-k-keyboar...  \n",
       "0  https://trello.com/c/TZbICnYd/9-3-fix-org-id-r...  "
      ]
     },
     "execution_count": 64,
     "metadata": {},
     "output_type": "execute_result"
    }
   ],
   "source": [
    "dfAllCards = pd.concat(AllCards)\n",
    "dfAllCards.columns = ['Card_id','Desc','Name','URL']\n",
    "dfAllCards"
   ]
  },
  {
   "cell_type": "markdown",
   "metadata": {},
   "source": [
    "# 2.4 Mendapatkan semua checklist di suatu card"
   ]
  },
  {
   "cell_type": "code",
   "execution_count": 156,
   "metadata": {},
   "outputs": [],
   "source": [
    "def getAllChecklistOnACard(key,token,card_id):\n",
    "    import requests\n",
    "    import json\n",
    "    \n",
    "    url = \"https://api.trello.com/1/cards/\"+str(card_id)+\"/checklists\"\n",
    "    \n",
    "    headers = {\"Accept\": \"application/json\"}\n",
    "\n",
    "    query = {\n",
    "       'key': key,\n",
    "       'token': token\n",
    "    }\n",
    "\n",
    "    response = requests.request(\n",
    "       \"GET\",\n",
    "       url,\n",
    "       headers=headers,\n",
    "       params=query\n",
    "    )\n",
    "    \n",
    "    res = json.loads(response.text)\n",
    "    \n",
    "    return res"
   ]
  },
  {
   "cell_type": "code",
   "execution_count": 157,
   "metadata": {},
   "outputs": [],
   "source": [
    "card_id = 'IljislYX'"
   ]
  },
  {
   "cell_type": "code",
   "execution_count": 158,
   "metadata": {},
   "outputs": [],
   "source": [
    "AllChecklist = getCardsInformation(api_key,api_token,card_id)"
   ]
  },
  {
   "cell_type": "code",
   "execution_count": 180,
   "metadata": {},
   "outputs": [
    {
     "data": {
      "text/plain": [
       "{'id': '60d3c53dcf4d0b5891f5feea',\n",
       " 'checkItemStates': [{'idCheckItem': '60d3c55f13a27320366b0a0e',\n",
       "   'state': 'complete'},\n",
       "  {'idCheckItem': '60d3c562394c280739cd9490', 'state': 'complete'},\n",
       "  {'idCheckItem': '60d3c5691ed82d4f9abf1130', 'state': 'complete'},\n",
       "  {'idCheckItem': '60d48b68a7317e252f015867', 'state': 'complete'},\n",
       "  {'idCheckItem': '60d48b6c0f293013f294e888', 'state': 'complete'},\n",
       "  {'idCheckItem': '60d48b7177694d3a7a8ad2eb', 'state': 'complete'}],\n",
       " 'closed': False,\n",
       " 'dateLastActivity': '2021-06-24T13:41:08.935Z',\n",
       " 'desc': 'This is a description about Product Owner Task',\n",
       " 'descData': {'emoji': {}},\n",
       " 'dueReminder': None,\n",
       " 'idBoard': '60d3c53dcf4d0b5891f5feae',\n",
       " 'idList': '60d3c53dcf4d0b5891f5feaf',\n",
       " 'idMembersVoted': [],\n",
       " 'idShort': 18,\n",
       " 'idAttachmentCover': None,\n",
       " 'idLabels': ['60d3c53dcf4d0b5891f5feec',\n",
       "  '60d3c53dcf4d0b5891f5fefc',\n",
       "  '60d3c53dcf4d0b5891f5fefa',\n",
       "  '60d3c53dcf4d0b5891f5fef8',\n",
       "  '60d3c53dcf4d0b5891f5fef6'],\n",
       " 'manualCoverAttachment': False,\n",
       " 'name': 'Product Owner: Brian',\n",
       " 'pos': 51814400,\n",
       " 'shortLink': 'IljislYX',\n",
       " 'isTemplate': False,\n",
       " 'cardRole': None,\n",
       " 'dueComplete': False,\n",
       " 'due': None,\n",
       " 'email': None,\n",
       " 'shortUrl': 'https://trello.com/c/IljislYX',\n",
       " 'start': None,\n",
       " 'url': 'https://trello.com/c/IljislYX/18-product-owner-brian',\n",
       " 'idMembers': [],\n",
       " 'badges': {'attachmentsByType': {'trello': {'board': 0, 'card': 0}},\n",
       "  'location': False,\n",
       "  'votes': 0,\n",
       "  'viewingMemberVoted': False,\n",
       "  'subscribed': False,\n",
       "  'fogbugz': '',\n",
       "  'checkItems': 6,\n",
       "  'checkItemsChecked': 6,\n",
       "  'checkItemsEarliestDue': None,\n",
       "  'comments': 0,\n",
       "  'attachments': 0,\n",
       "  'description': True,\n",
       "  'due': None,\n",
       "  'dueComplete': False,\n",
       "  'start': None},\n",
       " 'subscribed': False,\n",
       " 'cover': {'idAttachment': None,\n",
       "  'color': None,\n",
       "  'idUploadedBackground': None,\n",
       "  'size': 'normal',\n",
       "  'brightness': 'dark',\n",
       "  'idPlugin': None},\n",
       " 'labels': [{'id': '60d3c53dcf4d0b5891f5feec',\n",
       "   'idBoard': '60d3c53dcf4d0b5891f5feae',\n",
       "   'name': 'Meta',\n",
       "   'color': 'green'},\n",
       "  {'id': '60d3c53dcf4d0b5891f5fef6',\n",
       "   'idBoard': '60d3c53dcf4d0b5891f5feae',\n",
       "   'name': 'Regression',\n",
       "   'color': 'purple'},\n",
       "  {'id': '60d3c53dcf4d0b5891f5fef8',\n",
       "   'idBoard': '60d3c53dcf4d0b5891f5feae',\n",
       "   'name': 'Blocked',\n",
       "   'color': 'red'},\n",
       "  {'id': '60d3c53dcf4d0b5891f5fefa',\n",
       "   'idBoard': '60d3c53dcf4d0b5891f5feae',\n",
       "   'name': 'Bugs',\n",
       "   'color': 'orange'},\n",
       "  {'id': '60d3c53dcf4d0b5891f5fefc',\n",
       "   'idBoard': '60d3c53dcf4d0b5891f5feae',\n",
       "   'name': 'Verified on branch',\n",
       "   'color': 'yellow'}],\n",
       " 'idChecklists': ['60d3c554bab7a539c8e7e2cb', '60d48b56b020121c97704280']}"
      ]
     },
     "execution_count": 180,
     "metadata": {},
     "output_type": "execute_result"
    }
   ],
   "source": [
    "AllChecklist"
   ]
  },
  {
   "cell_type": "code",
   "execution_count": 165,
   "metadata": {},
   "outputs": [
    {
     "name": "stdout",
     "output_type": "stream",
     "text": [
      "banyak checklist : 2\n",
      "banyak checkitem : 6\n"
     ]
    }
   ],
   "source": [
    "print(\"banyak checklist :\", len(AllChecklist['idChecklists']))\n",
    "print(\"banyak checkitem :\", len(AllChecklist['checkItemStates']))"
   ]
  },
  {
   "cell_type": "code",
   "execution_count": 178,
   "metadata": {},
   "outputs": [],
   "source": [
    "AllCheckList = []\n",
    "for k in range(len(AllChecklist['checkItemStates'])):\n",
    "    res = [AllChecklist['checkItemStates'][k]['idCheckItem'],AllChecklist['checkItemStates'][k]['state']]\n",
    "    df_res = pd.DataFrame([AllChecklist['checkItemStates'][k]['idCheckItem'],AllChecklist['checkItemStates'][k]['state']]).T\n",
    "    AllCheckList.append(df_res)"
   ]
  },
  {
   "cell_type": "code",
   "execution_count": 182,
   "metadata": {},
   "outputs": [
    {
     "data": {
      "text/html": [
       "<div>\n",
       "<style scoped>\n",
       "    .dataframe tbody tr th:only-of-type {\n",
       "        vertical-align: middle;\n",
       "    }\n",
       "\n",
       "    .dataframe tbody tr th {\n",
       "        vertical-align: top;\n",
       "    }\n",
       "\n",
       "    .dataframe thead th {\n",
       "        text-align: right;\n",
       "    }\n",
       "</style>\n",
       "<table border=\"1\" class=\"dataframe\">\n",
       "  <thead>\n",
       "    <tr style=\"text-align: right;\">\n",
       "      <th></th>\n",
       "      <th>idCheckItem</th>\n",
       "      <th>status</th>\n",
       "      <th>card_id_word</th>\n",
       "      <th>card_id_num</th>\n",
       "    </tr>\n",
       "  </thead>\n",
       "  <tbody>\n",
       "    <tr>\n",
       "      <th>0</th>\n",
       "      <td>60d3c55f13a27320366b0a0e</td>\n",
       "      <td>complete</td>\n",
       "      <td>IljislYX</td>\n",
       "      <td>60d3c53dcf4d0b5891f5feea</td>\n",
       "    </tr>\n",
       "    <tr>\n",
       "      <th>0</th>\n",
       "      <td>60d3c562394c280739cd9490</td>\n",
       "      <td>complete</td>\n",
       "      <td>IljislYX</td>\n",
       "      <td>60d3c53dcf4d0b5891f5feea</td>\n",
       "    </tr>\n",
       "    <tr>\n",
       "      <th>0</th>\n",
       "      <td>60d3c5691ed82d4f9abf1130</td>\n",
       "      <td>complete</td>\n",
       "      <td>IljislYX</td>\n",
       "      <td>60d3c53dcf4d0b5891f5feea</td>\n",
       "    </tr>\n",
       "    <tr>\n",
       "      <th>0</th>\n",
       "      <td>60d48b68a7317e252f015867</td>\n",
       "      <td>complete</td>\n",
       "      <td>IljislYX</td>\n",
       "      <td>60d3c53dcf4d0b5891f5feea</td>\n",
       "    </tr>\n",
       "    <tr>\n",
       "      <th>0</th>\n",
       "      <td>60d48b6c0f293013f294e888</td>\n",
       "      <td>complete</td>\n",
       "      <td>IljislYX</td>\n",
       "      <td>60d3c53dcf4d0b5891f5feea</td>\n",
       "    </tr>\n",
       "    <tr>\n",
       "      <th>0</th>\n",
       "      <td>60d48b7177694d3a7a8ad2eb</td>\n",
       "      <td>complete</td>\n",
       "      <td>IljislYX</td>\n",
       "      <td>60d3c53dcf4d0b5891f5feea</td>\n",
       "    </tr>\n",
       "  </tbody>\n",
       "</table>\n",
       "</div>"
      ],
      "text/plain": [
       "                idCheckItem    status card_id_word               card_id_num\n",
       "0  60d3c55f13a27320366b0a0e  complete     IljislYX  60d3c53dcf4d0b5891f5feea\n",
       "0  60d3c562394c280739cd9490  complete     IljislYX  60d3c53dcf4d0b5891f5feea\n",
       "0  60d3c5691ed82d4f9abf1130  complete     IljislYX  60d3c53dcf4d0b5891f5feea\n",
       "0  60d48b68a7317e252f015867  complete     IljislYX  60d3c53dcf4d0b5891f5feea\n",
       "0  60d48b6c0f293013f294e888  complete     IljislYX  60d3c53dcf4d0b5891f5feea\n",
       "0  60d48b7177694d3a7a8ad2eb  complete     IljislYX  60d3c53dcf4d0b5891f5feea"
      ]
     },
     "execution_count": 182,
     "metadata": {},
     "output_type": "execute_result"
    }
   ],
   "source": [
    "df_AllCheckList = pd.concat(AllCheckList)\n",
    "df_AllCheckList['card_id_word'] = card_id\n",
    "df_AllCheckList['card_id_num'] = AllChecklist['id']\n",
    "df_AllCheckList.columns = ['idCheckItem','status','card_id_word','card_id_num']\n",
    "df_AllCheckList"
   ]
  },
  {
   "cell_type": "markdown",
   "metadata": {},
   "source": [
    "# 2.4. Mendapatkan Informasi spesifik dari suatu card\n",
    "Kita bisa mendapatkan Informasi dari suatu card dengan mengetahui id card nya. Jika link trello https://trello.com/c/IljislYX/18-product-owner-brian maka id card nya adalah IljislYX."
   ]
  },
  {
   "cell_type": "code",
   "execution_count": 147,
   "metadata": {},
   "outputs": [],
   "source": [
    "def getCardsInformation(key,token,card_id):\n",
    "    import requests\n",
    "    import json\n",
    "    \n",
    "    url = \"https://api.trello.com/1/cards/\"+str(card_id)\n",
    "    \n",
    "    headers = {\"Accept\": \"application/json\"}\n",
    "\n",
    "    query = {\n",
    "       'key': key,\n",
    "       'token': token\n",
    "    }\n",
    "\n",
    "    response = requests.request(\n",
    "       \"GET\",\n",
    "       url,\n",
    "       headers=headers,\n",
    "       params=query\n",
    "    )\n",
    "    \n",
    "    res = json.loads(response.text)\n",
    "    \n",
    "    return res"
   ]
  },
  {
   "cell_type": "code",
   "execution_count": 148,
   "metadata": {},
   "outputs": [],
   "source": [
    "card_id = 'IljislYX'"
   ]
  },
  {
   "cell_type": "code",
   "execution_count": 149,
   "metadata": {},
   "outputs": [],
   "source": [
    "cards_info = getCardsInformation(api_key,api_token,card_id)"
   ]
  },
  {
   "cell_type": "code",
   "execution_count": 150,
   "metadata": {},
   "outputs": [
    {
     "data": {
      "text/plain": [
       "{'id': '60d3c53dcf4d0b5891f5feea',\n",
       " 'checkItemStates': [{'idCheckItem': '60d3c55f13a27320366b0a0e',\n",
       "   'state': 'complete'},\n",
       "  {'idCheckItem': '60d3c562394c280739cd9490', 'state': 'complete'},\n",
       "  {'idCheckItem': '60d3c5691ed82d4f9abf1130', 'state': 'complete'}],\n",
       " 'closed': False,\n",
       " 'dateLastActivity': '2021-06-24T13:36:29.329Z',\n",
       " 'desc': 'This is a description about Product Owner Task',\n",
       " 'descData': {'emoji': {}},\n",
       " 'dueReminder': None,\n",
       " 'idBoard': '60d3c53dcf4d0b5891f5feae',\n",
       " 'idList': '60d3c53dcf4d0b5891f5feaf',\n",
       " 'idMembersVoted': [],\n",
       " 'idShort': 18,\n",
       " 'idAttachmentCover': None,\n",
       " 'idLabels': ['60d3c53dcf4d0b5891f5feec',\n",
       "  '60d3c53dcf4d0b5891f5fefc',\n",
       "  '60d3c53dcf4d0b5891f5fefa',\n",
       "  '60d3c53dcf4d0b5891f5fef8',\n",
       "  '60d3c53dcf4d0b5891f5fef6'],\n",
       " 'manualCoverAttachment': False,\n",
       " 'name': 'Product Owner: Brian',\n",
       " 'pos': 51814400,\n",
       " 'shortLink': 'IljislYX',\n",
       " 'isTemplate': False,\n",
       " 'cardRole': None,\n",
       " 'dueComplete': False,\n",
       " 'due': None,\n",
       " 'email': None,\n",
       " 'shortUrl': 'https://trello.com/c/IljislYX',\n",
       " 'start': None,\n",
       " 'url': 'https://trello.com/c/IljislYX/18-product-owner-brian',\n",
       " 'idMembers': [],\n",
       " 'badges': {'attachmentsByType': {'trello': {'board': 0, 'card': 0}},\n",
       "  'location': False,\n",
       "  'votes': 0,\n",
       "  'viewingMemberVoted': False,\n",
       "  'subscribed': False,\n",
       "  'fogbugz': '',\n",
       "  'checkItems': 3,\n",
       "  'checkItemsChecked': 3,\n",
       "  'checkItemsEarliestDue': None,\n",
       "  'comments': 0,\n",
       "  'attachments': 0,\n",
       "  'description': True,\n",
       "  'due': None,\n",
       "  'dueComplete': False,\n",
       "  'start': None},\n",
       " 'subscribed': False,\n",
       " 'idChecklists': ['60d3c554bab7a539c8e7e2cb'],\n",
       " 'labels': [{'id': '60d3c53dcf4d0b5891f5feec',\n",
       "   'idBoard': '60d3c53dcf4d0b5891f5feae',\n",
       "   'name': 'Meta',\n",
       "   'color': 'green'},\n",
       "  {'id': '60d3c53dcf4d0b5891f5fef6',\n",
       "   'idBoard': '60d3c53dcf4d0b5891f5feae',\n",
       "   'name': 'Regression',\n",
       "   'color': 'purple'},\n",
       "  {'id': '60d3c53dcf4d0b5891f5fef8',\n",
       "   'idBoard': '60d3c53dcf4d0b5891f5feae',\n",
       "   'name': 'Blocked',\n",
       "   'color': 'red'},\n",
       "  {'id': '60d3c53dcf4d0b5891f5fefa',\n",
       "   'idBoard': '60d3c53dcf4d0b5891f5feae',\n",
       "   'name': 'Bugs',\n",
       "   'color': 'orange'},\n",
       "  {'id': '60d3c53dcf4d0b5891f5fefc',\n",
       "   'idBoard': '60d3c53dcf4d0b5891f5feae',\n",
       "   'name': 'Verified on branch',\n",
       "   'color': 'yellow'}],\n",
       " 'cover': {'idAttachment': None,\n",
       "  'color': None,\n",
       "  'idUploadedBackground': None,\n",
       "  'size': 'normal',\n",
       "  'brightness': 'dark',\n",
       "  'idPlugin': None}}"
      ]
     },
     "execution_count": 150,
     "metadata": {},
     "output_type": "execute_result"
    }
   ],
   "source": [
    "cards_info"
   ]
  },
  {
   "cell_type": "code",
   "execution_count": 151,
   "metadata": {},
   "outputs": [
    {
     "data": {
      "text/html": [
       "<div>\n",
       "<style scoped>\n",
       "    .dataframe tbody tr th:only-of-type {\n",
       "        vertical-align: middle;\n",
       "    }\n",
       "\n",
       "    .dataframe tbody tr th {\n",
       "        vertical-align: top;\n",
       "    }\n",
       "\n",
       "    .dataframe thead th {\n",
       "        text-align: right;\n",
       "    }\n",
       "</style>\n",
       "<table border=\"1\" class=\"dataframe\">\n",
       "  <thead>\n",
       "    <tr style=\"text-align: right;\">\n",
       "      <th></th>\n",
       "      <th>id</th>\n",
       "      <th>desc</th>\n",
       "      <th>name</th>\n",
       "      <th>label</th>\n",
       "    </tr>\n",
       "  </thead>\n",
       "  <tbody>\n",
       "    <tr>\n",
       "      <th>0</th>\n",
       "      <td>60d3c53dcf4d0b5891f5feea</td>\n",
       "      <td>This is a description about Product Owner Task</td>\n",
       "      <td>Product Owner: Brian</td>\n",
       "      <td>[{'id': '60d3c53dcf4d0b5891f5feec', 'idBoard':...</td>\n",
       "    </tr>\n",
       "  </tbody>\n",
       "</table>\n",
       "</div>"
      ],
      "text/plain": [
       "                         id                                            desc  \\\n",
       "0  60d3c53dcf4d0b5891f5feea  This is a description about Product Owner Task   \n",
       "\n",
       "                   name                                              label  \n",
       "0  Product Owner: Brian  [{'id': '60d3c53dcf4d0b5891f5feec', 'idBoard':...  "
      ]
     },
     "execution_count": 151,
     "metadata": {},
     "output_type": "execute_result"
    }
   ],
   "source": [
    "df_cards_info = pd.DataFrame([cards_info['id'],cards_info['desc'],cards_info['name'], cards_info['labels']]).T\n",
    "df_cards_info.columns = ['id','desc','name','label']\n",
    "df_cards_info"
   ]
  },
  {
   "cell_type": "code",
   "execution_count": null,
   "metadata": {},
   "outputs": [],
   "source": []
  }
 ],
 "metadata": {
  "kernelspec": {
   "display_name": "Python 3",
   "language": "python",
   "name": "python3"
  },
  "language_info": {
   "codemirror_mode": {
    "name": "ipython",
    "version": 3
   },
   "file_extension": ".py",
   "mimetype": "text/x-python",
   "name": "python",
   "nbconvert_exporter": "python",
   "pygments_lexer": "ipython3",
   "version": "3.8.5"
  }
 },
 "nbformat": 4,
 "nbformat_minor": 4
}
